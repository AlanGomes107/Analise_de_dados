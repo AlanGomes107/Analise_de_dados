{
  "nbformat": 4,
  "nbformat_minor": 0,
  "metadata": {
    "colab": {
      "name": "Plots categóricos.ipynb",
      "provenance": [],
      "authorship_tag": "ABX9TyNqV2OdRxKfQbmTlIM6hiVb",
      "include_colab_link": true
    },
    "kernelspec": {
      "name": "python3",
      "display_name": "Python 3"
    },
    "language_info": {
      "name": "python"
    }
  },
  "cells": [
    {
      "cell_type": "markdown",
      "metadata": {
        "id": "view-in-github",
        "colab_type": "text"
      },
      "source": [
        "<a href=\"https://colab.research.google.com/github/AlanGomes107/Analise_de_dados/blob/main/Plots_categ%C3%B3ricos.ipynb\" target=\"_parent\"><img src=\"https://colab.research.google.com/assets/colab-badge.svg\" alt=\"Open In Colab\"/></a>"
      ]
    },
    {
      "cell_type": "markdown",
      "metadata": {
        "id": "_PxGJGBoet6_"
      },
      "source": [
        "# Plots categóricos\n",
        "# Agora vamos discutir como usar seaborn para traçar dados categóricos. Existem alguns tipos de argumentos principais para isso:\n",
        "\n",
        "# barplot (Gráfico de Barras definir estimador Desvio Padrão, Média..)\n",
        "# countplot (Gráfico de Barras contagem)\n",
        "# boxplot\n",
        "# Vamos passar por exemplos de cada um."
      ]
    },
    {
      "cell_type": "code",
      "metadata": {
        "id": "oq5EMKrJesws"
      },
      "source": [
        "import seaborn as sns\n",
        "%matplotlib inline"
      ],
      "execution_count": 1,
      "outputs": []
    },
    {
      "cell_type": "code",
      "metadata": {
        "colab": {
          "base_uri": "https://localhost:8080/",
          "height": 204
        },
        "id": "gv91VKP5e-2u",
        "outputId": "f38b94cc-ad91-4878-ab4d-f81435e13611"
      },
      "source": [
        "tips = sns.load_dataset('tips')\n",
        "tips.head()"
      ],
      "execution_count": 2,
      "outputs": [
        {
          "output_type": "execute_result",
          "data": {
            "text/html": [
              "<div>\n",
              "<style scoped>\n",
              "    .dataframe tbody tr th:only-of-type {\n",
              "        vertical-align: middle;\n",
              "    }\n",
              "\n",
              "    .dataframe tbody tr th {\n",
              "        vertical-align: top;\n",
              "    }\n",
              "\n",
              "    .dataframe thead th {\n",
              "        text-align: right;\n",
              "    }\n",
              "</style>\n",
              "<table border=\"1\" class=\"dataframe\">\n",
              "  <thead>\n",
              "    <tr style=\"text-align: right;\">\n",
              "      <th></th>\n",
              "      <th>total_bill</th>\n",
              "      <th>tip</th>\n",
              "      <th>sex</th>\n",
              "      <th>smoker</th>\n",
              "      <th>day</th>\n",
              "      <th>time</th>\n",
              "      <th>size</th>\n",
              "    </tr>\n",
              "  </thead>\n",
              "  <tbody>\n",
              "    <tr>\n",
              "      <th>0</th>\n",
              "      <td>16.99</td>\n",
              "      <td>1.01</td>\n",
              "      <td>Female</td>\n",
              "      <td>No</td>\n",
              "      <td>Sun</td>\n",
              "      <td>Dinner</td>\n",
              "      <td>2</td>\n",
              "    </tr>\n",
              "    <tr>\n",
              "      <th>1</th>\n",
              "      <td>10.34</td>\n",
              "      <td>1.66</td>\n",
              "      <td>Male</td>\n",
              "      <td>No</td>\n",
              "      <td>Sun</td>\n",
              "      <td>Dinner</td>\n",
              "      <td>3</td>\n",
              "    </tr>\n",
              "    <tr>\n",
              "      <th>2</th>\n",
              "      <td>21.01</td>\n",
              "      <td>3.50</td>\n",
              "      <td>Male</td>\n",
              "      <td>No</td>\n",
              "      <td>Sun</td>\n",
              "      <td>Dinner</td>\n",
              "      <td>3</td>\n",
              "    </tr>\n",
              "    <tr>\n",
              "      <th>3</th>\n",
              "      <td>23.68</td>\n",
              "      <td>3.31</td>\n",
              "      <td>Male</td>\n",
              "      <td>No</td>\n",
              "      <td>Sun</td>\n",
              "      <td>Dinner</td>\n",
              "      <td>2</td>\n",
              "    </tr>\n",
              "    <tr>\n",
              "      <th>4</th>\n",
              "      <td>24.59</td>\n",
              "      <td>3.61</td>\n",
              "      <td>Female</td>\n",
              "      <td>No</td>\n",
              "      <td>Sun</td>\n",
              "      <td>Dinner</td>\n",
              "      <td>4</td>\n",
              "    </tr>\n",
              "  </tbody>\n",
              "</table>\n",
              "</div>"
            ],
            "text/plain": [
              "   total_bill   tip     sex smoker  day    time  size\n",
              "0       16.99  1.01  Female     No  Sun  Dinner     2\n",
              "1       10.34  1.66    Male     No  Sun  Dinner     3\n",
              "2       21.01  3.50    Male     No  Sun  Dinner     3\n",
              "3       23.68  3.31    Male     No  Sun  Dinner     2\n",
              "4       24.59  3.61  Female     No  Sun  Dinner     4"
            ]
          },
          "metadata": {},
          "execution_count": 2
        }
      ]
    },
    {
      "cell_type": "markdown",
      "metadata": {
        "id": "dcWbqaNNfLK1"
      },
      "source": [
        "# **barplot e countplot**\n",
        "Esses plots parecidos permitem que você obtenha dados agregados de um recurso categórico. ** barplot ** é um gráfico geral que permite que você agregue os dados categóricos baseados em alguma função, por padrão, a média:"
      ]
    },
    {
      "cell_type": "code",
      "metadata": {
        "id": "67uwLoyIe-5m"
      },
      "source": [
        "import numpy as np"
      ],
      "execution_count": 3,
      "outputs": []
    },
    {
      "cell_type": "markdown",
      "metadata": {
        "id": "NSr5HPCofU0V"
      },
      "source": [
        "Você pode alterar o objeto estimador para sua própria função, que converte um vetor em um escalar abaixo \"Média\":"
      ]
    },
    {
      "cell_type": "code",
      "metadata": {
        "colab": {
          "base_uri": "https://localhost:8080/",
          "height": 296
        },
        "id": "4At3dSVDe-8f",
        "outputId": "3e90f2d2-7c91-4c84-d9f7-3fb9459796f4"
      },
      "source": [
        "%matplotlib inline\n",
        "sns.barplot(x='sex',y='total_bill',data=tips,estimator=np.mean)"
      ],
      "execution_count": 4,
      "outputs": [
        {
          "output_type": "execute_result",
          "data": {
            "text/plain": [
              "<matplotlib.axes._subplots.AxesSubplot at 0x7fd44ba56310>"
            ]
          },
          "metadata": {},
          "execution_count": 4
        },
        {
          "output_type": "display_data",
          "data": {
            "image/png": "[encoded data removed]",
            "text/plain": [
              "<Figure size 432x288 with 1 Axes>"
            ]
          },
          "metadata": {
            "needs_background": "light"
          }
        }
      ]
    },
    {
      "cell_type": "markdown",
      "metadata": {
        "id": "hxEC06VRfcul"
      },
      "source": [
        "Você pode alterar o objeto estimador para sua própria função, que converte um vetor em um escalar abaixo \"Desvio Padrão\":"
      ]
    },
    {
      "cell_type": "markdown",
      "metadata": {
        "id": "lgY7a5qVfg77"
      },
      "source": [
        "# **countplot**\n",
        "Isto é essencialmente o mesmo que o gráfico de barras, exceto que o estimador está explicitamente contando o número de ocorrências. É por isso que apenas passamos o valor x:"
      ]
    },
    {
      "cell_type": "code",
      "metadata": {
        "colab": {
          "base_uri": "https://localhost:8080/",
          "height": 296
        },
        "id": "ZZIjXGyCe-_P",
        "outputId": "812c963c-63ae-4f3f-a0a1-a71f8640fac2"
      },
      "source": [
        "%matplotlib inline\n",
        "sns.countplot(x='sex',data=tips)"
      ],
      "execution_count": 5,
      "outputs": [
        {
          "output_type": "execute_result",
          "data": {
            "text/plain": [
              "<matplotlib.axes._subplots.AxesSubplot at 0x7fd44b9aa990>"
            ]
          },
          "metadata": {},
          "execution_count": 5
        },
        {
          "output_type": "display_data",
          "data": {
            "image/png": "[encoded data removed]",
            "text/plain": [
              "<Figure size 432x288 with 1 Axes>"
            ]
          },
          "metadata": {
            "needs_background": "light"
          }
        }
      ]
    },
    {
      "cell_type": "markdown",
      "metadata": {
        "id": "lyYZStKgfoPc"
      },
      "source": [
        "# **boxplots**\n",
        "Boxplots são usados para mostrar a distribuição de variáveis quantitativas. Um boxplot (ou gráfico de caixa e espessura) mostra a distribuição de dados quantitativos de uma maneira que facilita entender a disposição das observações desta variável.\n",
        "\n",
        "A caixa mostra os quartis do conjunto de dados, enquanto as barras se estendem para mostrar o resto da distribuição, exceto pelos pontos que são determinados como \"outliers\".\n",
        "\n",
        "Ex: Distribuição do salário dos trabalhadores do Brasil"
      ]
    },
    {
      "cell_type": "code",
      "metadata": {
        "colab": {
          "base_uri": "https://localhost:8080/",
          "height": 269
        },
        "id": "lNFkg9RJe_CA",
        "outputId": "4815a131-b173-4a8f-e28d-6adb55ca166f"
      },
      "source": [
        "%matplotlib inline\n",
        "sns.boxplot( y=\"total_bill\", data=tips,palette='rainbow')"
      ],
      "execution_count": 6,
      "outputs": [
        {
          "output_type": "execute_result",
          "data": {
            "text/plain": [
              "<matplotlib.axes._subplots.AxesSubplot at 0x7fd44b4dec10>"
            ]
          },
          "metadata": {},
          "execution_count": 6
        },
        {
          "output_type": "display_data",
          "data": {
            "image/png": "[encoded data removed]",
            "text/plain": [
              "<Figure size 432x288 with 1 Axes>"
            ]
          },
          "metadata": {
            "needs_background": "light"
          }
        }
      ]
    },
    {
      "cell_type": "markdown",
      "metadata": {
        "id": "AAAr351afxPj"
      },
      "source": [
        "# **Boxplot (Comparando com outros níveis da categoria)**\n",
        "Boxplots são usados para mostrar a distribuição de variáveis quantitativas. Um boxplot (ou gráfico de caixa e espessura) mostra a distribuição de dados quantitativos de uma maneira que facilita entender a disposição das observações desta variável.\n",
        "\n",
        "A caixa mostra os quartis do conjunto de dados, enquanto as barras se estendem para mostrar o resto da distribuição, exceto pelos pontos que são determinados como \"outliers\".\n",
        "\n",
        "É possível mostrar a distribuição de dados quantitativos dentro dos níveis de uma variável categórica, o que facilita a comparação entre os níveis.\n",
        "\n",
        "Ex: Distribuição do salário dos trabalhadores do Brasil vs. Regiões (Sul, Sudeste, Centro-Oeste, Norte e Nordeste)"
      ]
    },
    {
      "cell_type": "code",
      "metadata": {
        "colab": {
          "base_uri": "https://localhost:8080/",
          "height": 296
        },
        "id": "N4-nv0dPe_E6",
        "outputId": "295812d0-e900-4409-fa62-7afbecbd29e4"
      },
      "source": [
        "%matplotlib inline\n",
        "sns.boxplot(x=\"day\", y=\"total_bill\", data=tips,palette='rainbow')"
      ],
      "execution_count": 7,
      "outputs": [
        {
          "output_type": "execute_result",
          "data": {
            "text/plain": [
              "<matplotlib.axes._subplots.AxesSubplot at 0x7fd44b4b7050>"
            ]
          },
          "metadata": {},
          "execution_count": 7
        },
        {
          "output_type": "display_data",
          "data": {
            "image/png": "[encoded data removed]",
            "text/plain": [
              "<Figure size 432x288 with 1 Axes>"
            ]
          },
          "metadata": {
            "needs_background": "light"
          }
        }
      ]
    },
    {
      "cell_type": "code",
      "metadata": {
        "colab": {
          "base_uri": "https://localhost:8080/",
          "height": 282
        },
        "id": "G2VypTvffzfs",
        "outputId": "cbc1c444-5210-4557-baae-4cd712cfe8ef"
      },
      "source": [
        "# Podemos orientar os dados para aparecerem na horizontal\n",
        "%matplotlib inline\n",
        "sns.boxplot(data=tips,palette='rainbow',orient='h')"
      ],
      "execution_count": 8,
      "outputs": [
        {
          "output_type": "execute_result",
          "data": {
            "text/plain": [
              "<matplotlib.axes._subplots.AxesSubplot at 0x7fd44b447690>"
            ]
          },
          "metadata": {},
          "execution_count": 8
        },
        {
          "output_type": "display_data",
          "data": {
            "image/png": "[encoded data removed]",
            "text/plain": [
              "<Figure size 432x288 with 1 Axes>"
            ]
          },
          "metadata": {
            "needs_background": "light"
          }
        }
      ]
    },
    {
      "cell_type": "code",
      "metadata": {
        "colab": {
          "base_uri": "https://localhost:8080/",
          "height": 296
        },
        "id": "IAoplvUAfzij",
        "outputId": "d0312fd7-1e15-4b3b-e6df-8f014e66901b"
      },
      "source": [
        "%matplotlib inline\n",
        "sns.boxplot(x=\"day\", y=\"total_bill\", hue=\"smoker\",data=tips, palette=\"coolwarm\")"
      ],
      "execution_count": 9,
      "outputs": [
        {
          "output_type": "execute_result",
          "data": {
            "text/plain": [
              "<matplotlib.axes._subplots.AxesSubplot at 0x7fd44b38fa50>"
            ]
          },
          "metadata": {},
          "execution_count": 9
        },
        {
          "output_type": "display_data",
          "data": {
            "image/png": "[encoded data removed]",
            "text/plain": [
              "<Figure size 432x288 with 1 Axes>"
            ]
          },
          "metadata": {
            "needs_background": "light"
          }
        }
      ]
    },
    {
      "cell_type": "code",
      "metadata": {
        "id": "uplO5WGQfzld"
      },
      "source": [
        "## Fim"
      ],
      "execution_count": null,
      "outputs": []
    }
  ]
}